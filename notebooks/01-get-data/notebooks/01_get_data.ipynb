{
 "cells": [
  {
   "cell_type": "markdown",
   "metadata": {},
   "source": [
    "# Get Data"
   ]
  },
  {
   "cell_type": "code",
   "execution_count": 1,
   "metadata": {},
   "outputs": [],
   "source": [
    "%load_ext autoreload\n",
    "%autoreload 2"
   ]
  },
  {
   "cell_type": "code",
   "execution_count": 2,
   "metadata": {},
   "outputs": [],
   "source": [
    "import io\n",
    "import os\n",
    "import sys\n",
    "from datetime import datetime\n",
    "from multiprocessing import cpu_count\n",
    "from typing import List\n",
    "from urllib.request import urlretrieve\n",
    "\n",
    "import boto3\n",
    "import pandas as pd\n",
    "from contexttimer import Timer\n",
    "from joblib import Parallel, delayed"
   ]
  },
  {
   "cell_type": "code",
   "execution_count": 3,
   "metadata": {},
   "outputs": [],
   "source": [
    "PROJ_ROOT = os.path.join(os.pardir)\n",
    "src_dir = os.path.join(PROJ_ROOT, \"src\")\n",
    "sys.path.append(src_dir)"
   ]
  },
  {
   "cell_type": "code",
   "execution_count": 4,
   "metadata": {},
   "outputs": [],
   "source": [
    "%aimport pandas_utils\n",
    "import pandas_utils as pu"
   ]
  },
  {
   "cell_type": "markdown",
   "metadata": {},
   "source": [
    "## About"
   ]
  },
  {
   "cell_type": "markdown",
   "metadata": {},
   "source": [
    "Get data using notebook running inside a dev container."
   ]
  },
  {
   "cell_type": "markdown",
   "metadata": {},
   "source": [
    "## User Inputs"
   ]
  },
  {
   "cell_type": "code",
   "execution_count": 5,
   "metadata": {},
   "outputs": [],
   "source": [
    "# dataset\n",
    "# # base url to access data files\n",
    "base_url = 'https://d37ci6vzurychx.cloudfront.net/trip-data/green_tripdata'\n",
    "# # list of year and month combinations of data to be loaded\n",
    "ym_list = ['2023-01', '2023-02', '2023-03']\n",
    "# # columns to be loaded\n",
    "cols_to_load = [\n",
    "    'lpep_pickup_datetime',\n",
    "    'RatecodeID',\n",
    "    'trip_distance',\n",
    "]\n",
    "\n",
    "# AWS\n",
    "# # private s3 bucket name\n",
    "s3_bucket_name = 'oss-shared-scratchp'\n",
    "# # profile from .aws/credentials\n",
    "aws_profile_name = 'default'"
   ]
  },
  {
   "cell_type": "code",
   "execution_count": 6,
   "metadata": {},
   "outputs": [],
   "source": [
    "urls = [f\"{base_url}_{ym}.parquet\" for ym in ym_list]"
   ]
  },
  {
   "cell_type": "markdown",
   "metadata": {},
   "source": [
    "## Use `boto3`"
   ]
  },
  {
   "cell_type": "markdown",
   "metadata": {},
   "source": [
    "Verify the following\n",
    "\n",
    "1. check that `~/.aws` folder exists inside container\n",
    "2. check that the AWS profile specified in the **User Inputs** section is found in the `~/.aws/credentials` file"
   ]
  },
  {
   "cell_type": "code",
   "execution_count": 7,
   "metadata": {},
   "outputs": [],
   "source": [
    "# verify .aws folder exists\n",
    "assert '.aws' in os.listdir(os.path.expanduser(\"~\"))\n",
    "# verify required profile is found in .aws/credentials\n",
    "assert aws_profile_name in boto3.session.Session().available_profiles"
   ]
  },
  {
   "cell_type": "markdown",
   "metadata": {},
   "source": [
    "Define S3 client"
   ]
  },
  {
   "cell_type": "code",
   "execution_count": 8,
   "metadata": {},
   "outputs": [],
   "source": [
    "session = boto3.session.Session(profile_name=aws_profile_name)\n",
    "s3_client = session.client('s3')"
   ]
  },
  {
   "cell_type": "markdown",
   "metadata": {},
   "source": [
    "Verify S3 buckets can be accessed"
   ]
  },
  {
   "cell_type": "code",
   "execution_count": 9,
   "metadata": {},
   "outputs": [],
   "source": [
    "assert len(s3_client.list_buckets()['Buckets']) >= 1\n",
    "assert s3_bucket_name in [\n",
    "    b['Name'] for b in s3_client.list_buckets()['Buckets']\n",
    "]"
   ]
  },
  {
   "cell_type": "markdown",
   "metadata": {},
   "source": [
    "## Get Data"
   ]
  },
  {
   "cell_type": "markdown",
   "metadata": {},
   "source": [
    "### Run ETL Pipeline to Process Data"
   ]
  },
  {
   "cell_type": "code",
   "execution_count": 10,
   "metadata": {},
   "outputs": [],
   "source": [
    "def run_etl_process(\n",
    "    url: str, columns: List[str], s3_bucket_name: str\n",
    ") -> pd.DataFrame:\n",
    "    \"\"\"Run ETL pipeline to get one month of taxi trips data.\"\"\"\n",
    "    with Timer() as t:\n",
    "        # extract\n",
    "        df_raw = (\n",
    "            pd.read_parquet(\n",
    "                url,\n",
    "                columns=columns,\n",
    "                filters=[('RatecodeID', 'in', [2, 3, 4, 5])],\n",
    "            )    \n",
    "        )\n",
    "\n",
    "        # transform\n",
    "        df = df_raw.pipe(pu.convert_dtypes_auto)\n",
    "\n",
    "        # load\n",
    "        curr_dtime = datetime.now().strftime(\"%Y%m%d_%H%M%S\")\n",
    "        proc_fname = (\n",
    "            f\"{os.path.basename(url).replace('.parquet', '').replace('-', '_')}_\"\n",
    "            f\"{curr_dtime}.parquet.gzip\"\n",
    "        )\n",
    "        out_buffer = io.BytesIO(\n",
    "            df.to_parquet(engine=\"pyarrow\", index=False, compression=\"gzip\")\n",
    "        )\n",
    "        response = s3_client.put_object(\n",
    "            Bucket=s3_bucket_name,\n",
    "            Key=os.path.join('raw', proc_fname),\n",
    "            Body=out_buffer.getvalue(),\n",
    "        )\n",
    "        assert response['ResponseMetadata']['HTTPStatusCode'] == 200\n",
    "    duration = t.elapsed\n",
    "\n",
    "    print(\n",
    "        f\"Loaded {len(df_raw):,} rows and exported {len(df):,} rows of \"\n",
    "        f\"data to {proc_fname} in {duration:.3f}s\\n\"\n",
    "    )\n",
    "    return df"
   ]
  },
  {
   "cell_type": "code",
   "execution_count": 11,
   "metadata": {},
   "outputs": [
    {
     "name": "stdout",
     "output_type": "stream",
     "text": [
      "Loaded 1,774 rows and exported 1,774 rows of data to green_tripdata_2023_01_20231106_205413.parquet.gzip in 0.766s\n",
      "\n",
      "Loaded 2,071 rows and exported 2,071 rows of data to green_tripdata_2023_02_20231106_205413.parquet.gzip in 0.779s\n",
      "\n",
      "Loaded 2,479 rows and exported 2,479 rows of data to green_tripdata_2023_03_20231106_205413.parquet.gzip in 0.803s\n",
      "\n",
      "Loaded 6,324 rows of data\n"
     ]
    },
    {
     "data": {
      "text/html": [
       "<div>\n",
       "<style scoped>\n",
       "    .dataframe tbody tr th:only-of-type {\n",
       "        vertical-align: middle;\n",
       "    }\n",
       "\n",
       "    .dataframe tbody tr th {\n",
       "        vertical-align: top;\n",
       "    }\n",
       "\n",
       "    .dataframe thead tr th {\n",
       "        text-align: left;\n",
       "    }\n",
       "</style>\n",
       "<table border=\"1\" class=\"dataframe\">\n",
       "  <thead>\n",
       "    <tr>\n",
       "      <th>column</th>\n",
       "      <th>lpep_pickup_datetime</th>\n",
       "      <th>RatecodeID</th>\n",
       "      <th>trip_distance</th>\n",
       "    </tr>\n",
       "    <tr>\n",
       "      <th>dtype</th>\n",
       "      <th>datetime64[us]</th>\n",
       "      <th>Int64</th>\n",
       "      <th>Float64</th>\n",
       "    </tr>\n",
       "    <tr>\n",
       "      <th>missing</th>\n",
       "      <th>0</th>\n",
       "      <th>0</th>\n",
       "      <th>0</th>\n",
       "    </tr>\n",
       "  </thead>\n",
       "  <tbody>\n",
       "    <tr>\n",
       "      <th>0</th>\n",
       "      <td>2023-01-01 00:10:45</td>\n",
       "      <td>5</td>\n",
       "      <td>1.3</td>\n",
       "    </tr>\n",
       "    <tr>\n",
       "      <th>1</th>\n",
       "      <td>2023-01-01 00:46:48</td>\n",
       "      <td>4</td>\n",
       "      <td>10.44</td>\n",
       "    </tr>\n",
       "    <tr>\n",
       "      <th>2</th>\n",
       "      <td>2023-01-01 00:40:58</td>\n",
       "      <td>5</td>\n",
       "      <td>6.78</td>\n",
       "    </tr>\n",
       "    <tr>\n",
       "      <th>3</th>\n",
       "      <td>2023-01-01 00:16:10</td>\n",
       "      <td>5</td>\n",
       "      <td>6.19</td>\n",
       "    </tr>\n",
       "    <tr>\n",
       "      <th>4</th>\n",
       "      <td>2023-01-01 00:39:52</td>\n",
       "      <td>5</td>\n",
       "      <td>2.08</td>\n",
       "    </tr>\n",
       "    <tr>\n",
       "      <th>...</th>\n",
       "      <td>...</td>\n",
       "      <td>...</td>\n",
       "      <td>...</td>\n",
       "    </tr>\n",
       "    <tr>\n",
       "      <th>6319</th>\n",
       "      <td>2023-03-31 22:15:25</td>\n",
       "      <td>5</td>\n",
       "      <td>2.7</td>\n",
       "    </tr>\n",
       "    <tr>\n",
       "      <th>6320</th>\n",
       "      <td>2023-03-31 22:35:53</td>\n",
       "      <td>5</td>\n",
       "      <td>3.61</td>\n",
       "    </tr>\n",
       "    <tr>\n",
       "      <th>6321</th>\n",
       "      <td>2023-03-31 23:38:29</td>\n",
       "      <td>5</td>\n",
       "      <td>7.03</td>\n",
       "    </tr>\n",
       "    <tr>\n",
       "      <th>6322</th>\n",
       "      <td>2023-03-31 23:02:54</td>\n",
       "      <td>5</td>\n",
       "      <td>2.76</td>\n",
       "    </tr>\n",
       "    <tr>\n",
       "      <th>6323</th>\n",
       "      <td>2023-03-31 23:53:58</td>\n",
       "      <td>5</td>\n",
       "      <td>1.01</td>\n",
       "    </tr>\n",
       "  </tbody>\n",
       "</table>\n",
       "<p>6324 rows × 3 columns</p>\n",
       "</div>"
      ],
      "text/plain": [
       "column  lpep_pickup_datetime RatecodeID trip_distance\n",
       "dtype         datetime64[us]      Int64       Float64\n",
       "missing                    0          0             0\n",
       "0        2023-01-01 00:10:45          5           1.3\n",
       "1        2023-01-01 00:46:48          4         10.44\n",
       "2        2023-01-01 00:40:58          5          6.78\n",
       "3        2023-01-01 00:16:10          5          6.19\n",
       "4        2023-01-01 00:39:52          5          2.08\n",
       "...                      ...        ...           ...\n",
       "6319     2023-03-31 22:15:25          5           2.7\n",
       "6320     2023-03-31 22:35:53          5          3.61\n",
       "6321     2023-03-31 23:38:29          5          7.03\n",
       "6322     2023-03-31 23:02:54          5          2.76\n",
       "6323     2023-03-31 23:53:58          5          1.01\n",
       "\n",
       "[6324 rows x 3 columns]"
      ]
     },
     "metadata": {},
     "output_type": "display_data"
    },
    {
     "name": "stdout",
     "output_type": "stream",
     "text": [
      "<class 'pandas.core.frame.DataFrame'>\n",
      "RangeIndex: 6324 entries, 0 to 6323\n",
      "Data columns (total 3 columns):\n",
      " #   Column                Non-Null Count  Dtype         \n",
      "---  ------                --------------  -----         \n",
      " 0   lpep_pickup_datetime  6324 non-null   datetime64[us]\n",
      " 1   RatecodeID            6324 non-null   Int64         \n",
      " 2   trip_distance         6324 non-null   Float64       \n",
      "dtypes: Float64(1), Int64(1), datetime64[us](1)\n",
      "memory usage: 160.7 KB\n",
      "CPU times: user 70.3 ms, sys: 70.9 ms, total: 141 ms\n",
      "Wall time: 945 ms\n"
     ]
    }
   ],
   "source": [
    "%%time\n",
    "executor = Parallel(n_jobs=cpu_count(), backend='multiprocessing')\n",
    "tasks = (\n",
    "    delayed(run_etl_process)(\n",
    "        f, cols_to_load, s3_bucket_name\n",
    "    )\n",
    "    for f in urls\n",
    ")\n",
    "df = pd.concat(executor(tasks), ignore_index=True)\n",
    "print(f\"Loaded {len(df):,} rows of data\")\n",
    "pu.show_df(df)\n",
    "df.info()"
   ]
  }
 ],
 "metadata": {
  "kernelspec": {
   "display_name": "get-data",
   "language": "python",
   "name": "python3"
  },
  "language_info": {
   "codemirror_mode": {
    "name": "ipython",
    "version": 3
   },
   "file_extension": ".py",
   "mimetype": "text/x-python",
   "name": "python",
   "nbconvert_exporter": "python",
   "pygments_lexer": "ipython3",
   "version": "3.11.6"
  }
 },
 "nbformat": 4,
 "nbformat_minor": 2
}
