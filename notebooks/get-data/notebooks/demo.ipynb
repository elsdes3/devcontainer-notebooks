{
 "cells": [
  {
   "cell_type": "markdown",
   "metadata": {},
   "source": [
    "# Get Data"
   ]
  },
  {
   "cell_type": "code",
   "execution_count": null,
   "metadata": {},
   "outputs": [],
   "source": [
    "%load_ext autoreload\n",
    "%autoreload 2"
   ]
  },
  {
   "cell_type": "code",
   "execution_count": null,
   "metadata": {},
   "outputs": [],
   "source": [
    "import io\n",
    "import os\n",
    "import sys\n",
    "from datetime import datetime\n",
    "from multiprocessing import cpu_count\n",
    "from typing import List\n",
    "from urllib.request import urlretrieve\n",
    "\n",
    "import boto3\n",
    "import pandas as pd\n",
    "# from contexttimer import Timer\n",
    "# from joblib import Parallel, delayed"
   ]
  },
  {
   "cell_type": "code",
   "execution_count": null,
   "metadata": {},
   "outputs": [],
   "source": [
    "PROJ_ROOT = os.path.join(os.pardir)\n",
    "src_dir = os.path.join(PROJ_ROOT, \"src\")\n",
    "sys.path.append(src_dir)"
   ]
  },
  {
   "cell_type": "code",
   "execution_count": null,
   "metadata": {},
   "outputs": [],
   "source": [
    "%aimport pandas_utils\n",
    "import pandas_utils as pu"
   ]
  },
  {
   "cell_type": "markdown",
   "metadata": {},
   "source": [
    "## About"
   ]
  },
  {
   "cell_type": "markdown",
   "metadata": {},
   "source": [
    "Get data using notebook running inside a dev container."
   ]
  },
  {
   "cell_type": "markdown",
   "metadata": {},
   "source": [
    "## User Inputs"
   ]
  },
  {
   "cell_type": "code",
   "execution_count": null,
   "metadata": {},
   "outputs": [],
   "source": [
    "# dataset\n",
    "# # base url to access data files\n",
    "base_url = 'https://d37ci6vzurychx.cloudfront.net/trip-data/green_tripdata'\n",
    "# # list of year and month combinations of data to be loaded\n",
    "ym_list = ['2023-01', '2023-02', '2023-03']\n",
    "# # columns to be loaded\n",
    "cols_to_load = [\n",
    "    'lpep_pickup_datetime',\n",
    "    'RatecodeID',\n",
    "    'trip_distance',\n",
    "]\n",
    "\n",
    "# AWS\n",
    "# # private s3 bucket name\n",
    "s3_bucket_name = 'oss-shared-scratchp'\n",
    "# # profile from .aws/credentials\n",
    "aws_profile_name = 'default'"
   ]
  },
  {
   "cell_type": "code",
   "execution_count": null,
   "metadata": {},
   "outputs": [],
   "source": [
    "urls = [f\"{base_url}_{ym}.parquet\" for ym in ym_list]"
   ]
  },
  {
   "cell_type": "markdown",
   "metadata": {},
   "source": [
    "## Use `boto3`"
   ]
  },
  {
   "cell_type": "markdown",
   "metadata": {},
   "source": [
    "Verify the following\n",
    "\n",
    "1. check that `~/.aws` folder exists inside container\n",
    "2. check that the AWS profile specified in the **User Inputs** section is found in the `~/.aws/credentials` file"
   ]
  },
  {
   "cell_type": "code",
   "execution_count": null,
   "metadata": {},
   "outputs": [],
   "source": [
    "# verify .aws folder exists\n",
    "assert '.aws' in os.listdir(os.path.expanduser(\"~\"))\n",
    "# verify required profile is found in .aws/credentials\n",
    "assert aws_profile_name in boto3.session.Session().available_profiles"
   ]
  },
  {
   "cell_type": "markdown",
   "metadata": {},
   "source": [
    "Define S3 client"
   ]
  },
  {
   "cell_type": "code",
   "execution_count": null,
   "metadata": {},
   "outputs": [],
   "source": [
    "session = boto3.session.Session(profile_name=aws_profile_name)\n",
    "s3_client = session.client('s3')"
   ]
  },
  {
   "cell_type": "markdown",
   "metadata": {},
   "source": [
    "Verify S3 buckets can be accessed"
   ]
  },
  {
   "cell_type": "code",
   "execution_count": null,
   "metadata": {},
   "outputs": [],
   "source": [
    "assert len(s3_client.list_buckets()['Buckets']) >= 1\n",
    "assert s3_bucket_name in [\n",
    "    b['Name'] for b in s3_client.list_buckets()['Buckets']\n",
    "]"
   ]
  },
  {
   "cell_type": "markdown",
   "metadata": {},
   "source": [
    "## Get Data"
   ]
  },
  {
   "cell_type": "markdown",
   "metadata": {},
   "source": [
    "### Run ETL Pipeline to Process Data"
   ]
  },
  {
   "cell_type": "code",
   "execution_count": null,
   "metadata": {},
   "outputs": [],
   "source": [
    "def run_etl_process(\n",
    "    url: str, columns: List[str], s3_bucket_name: str\n",
    ") -> pd.DataFrame:\n",
    "    \"\"\".\"\"\"\n",
    "    with Timer() as t:\n",
    "        # extract\n",
    "        df_raw = (\n",
    "            pd.read_parquet(\n",
    "                url,\n",
    "                columns=columns,\n",
    "                filters=[('RatecodeID', 'in', [2, 3, 4, 5])],\n",
    "            )    \n",
    "        )\n",
    "\n",
    "        # transform\n",
    "        df = df_raw.pipe(pu.convert_dtypes_auto)\n",
    "\n",
    "        # load\n",
    "        curr_dtime = datetime.now().strftime(\"%Y%m%d_%H%M%S\")\n",
    "        proc_fname = (\n",
    "            f\"{os.path.basename(url).replace('.parquet', '').replace('-', '_')}_\"\n",
    "            f\"{curr_dtime}.parquet.gzip\"\n",
    "        )\n",
    "        out_buffer = io.BytesIO(\n",
    "            df.to_parquet(engine=\"pyarrow\", index=False, compression=\"gzip\")\n",
    "        )\n",
    "        response = s3_client.put_object(\n",
    "            Bucket=s3_bucket_name,\n",
    "            Key=os.path.join('raw', proc_fname),\n",
    "            Body=out_buffer.getvalue(),\n",
    "        )\n",
    "        assert response['ResponseMetadata']['HTTPStatusCode'] == 200\n",
    "    duration = t.elapsed\n",
    "\n",
    "    print(\n",
    "        f\"Loaded {len(df_raw):,} rows and exported {len(df):,} rows of \"\n",
    "        f\"data to {proc_fname} in {duration:.3f}s\\n\"\n",
    "    )\n",
    "    return df"
   ]
  },
  {
   "cell_type": "code",
   "execution_count": null,
   "metadata": {},
   "outputs": [],
   "source": [
    "%%time\n",
    "executor = Parallel(n_jobs=cpu_count(), backend='multiprocessing')\n",
    "tasks = (\n",
    "    delayed(run_etl_process)(\n",
    "        f, cols_to_load, s3_bucket_name\n",
    "    )\n",
    "    for f in urls\n",
    ")\n",
    "df = pd.concat(executor(tasks), ignore_index=True)\n",
    "print(f\"Loaded {len(df):,} rows of data\")\n",
    "pu.show_df(df)\n",
    "df.info()"
   ]
  },
  {
   "cell_type": "code",
   "execution_count": null,
   "metadata": {},
   "outputs": [],
   "source": []
  }
 ],
 "metadata": {
  "kernelspec": {
   "display_name": "get-data",
   "language": "python",
   "name": "python3"
  },
  "language_info": {
   "codemirror_mode": {
    "name": "ipython",
    "version": 3
   },
   "file_extension": ".py",
   "mimetype": "text/x-python",
   "name": "python",
   "nbconvert_exporter": "python",
   "pygments_lexer": "ipython3",
   "version": "3.11.6"
  }
 },
 "nbformat": 4,
 "nbformat_minor": 2
}
